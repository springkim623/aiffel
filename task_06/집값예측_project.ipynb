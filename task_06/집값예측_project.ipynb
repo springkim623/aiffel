{
 "cells": [
  {
   "cell_type": "markdown",
   "id": "f461f5e6",
   "metadata": {},
   "source": [
    "# Kaggle 따라하기"
   ]
  },
  {
   "cell_type": "markdown",
   "id": "1926f6fc",
   "metadata": {},
   "source": [
    "# 1. 라이브러리 불러오기"
   ]
  },
  {
   "cell_type": "code",
   "execution_count": 1,
   "id": "9349bf8c",
   "metadata": {},
   "outputs": [
    {
     "ename": "ModuleNotFoundError",
     "evalue": "No module named 'missingno'",
     "output_type": "error",
     "traceback": [
      "\u001b[0;31m---------------------------------------------------------------------------\u001b[0m",
      "\u001b[0;31mModuleNotFoundError\u001b[0m                       Traceback (most recent call last)",
      "Cell \u001b[0;32mIn[1], line 10\u001b[0m\n\u001b[1;32m      7\u001b[0m \u001b[38;5;28;01mimport\u001b[39;00m \u001b[38;5;21;01mpandas\u001b[39;00m \u001b[38;5;28;01mas\u001b[39;00m \u001b[38;5;21;01mpd\u001b[39;00m\n\u001b[1;32m      8\u001b[0m \u001b[38;5;28;01mimport\u001b[39;00m \u001b[38;5;21;01mnumpy\u001b[39;00m \u001b[38;5;28;01mas\u001b[39;00m \u001b[38;5;21;01mnp\u001b[39;00m\n\u001b[0;32m---> 10\u001b[0m \u001b[38;5;28;01mimport\u001b[39;00m \u001b[38;5;21;01mmissingno\u001b[39;00m \u001b[38;5;28;01mas\u001b[39;00m \u001b[38;5;21;01mmsno\u001b[39;00m\n\u001b[1;32m     12\u001b[0m \u001b[38;5;28;01mfrom\u001b[39;00m \u001b[38;5;21;01msklearn\u001b[39;00m\u001b[38;5;21;01m.\u001b[39;00m\u001b[38;5;21;01mensemble\u001b[39;00m \u001b[38;5;28;01mimport\u001b[39;00m GradientBoostingRegressor\n\u001b[1;32m     13\u001b[0m \u001b[38;5;28;01mfrom\u001b[39;00m \u001b[38;5;21;01msklearn\u001b[39;00m\u001b[38;5;21;01m.\u001b[39;00m\u001b[38;5;21;01mmodel_selection\u001b[39;00m \u001b[38;5;28;01mimport\u001b[39;00m KFold, cross_val_score\n",
      "\u001b[0;31mModuleNotFoundError\u001b[0m: No module named 'missingno'"
     ]
    }
   ],
   "source": [
    "import warnings\n",
    "warnings.filterwarnings(\"ignore\")\n",
    "\n",
    "import os\n",
    "from os.path import join\n",
    "\n",
    "import pandas as pd\n",
    "import numpy as np\n",
    "\n",
    "import missingno as msno\n",
    "\n",
    "from sklearn.ensemble import GradientBoostingRegressor\n",
    "from sklearn.model_selection import KFold, cross_val_score\n",
    "import xgboost as xgb\n",
    "import lightgbm as lgb\n",
    "\n",
    "import matplotlib.pyplot as plt\n",
    "import seaborn as sns"
   ]
  },
  {
   "cell_type": "code",
   "execution_count": null,
   "id": "0cb575fb",
   "metadata": {},
   "outputs": [],
   "source": [
    "train_data_path = join('./data', 'train.csv')\n",
    "sub_data_path = join('./data', 'test.csv')"
   ]
  },
  {
   "cell_type": "markdown",
   "id": "40430ce4",
   "metadata": {},
   "source": [
    "## 1. 데이터 살펴보기\n",
    "pandas의 read_csv 함수를 사용해 데이터를 읽어오고, 각 변수들이 나타내는 의미를 살펴보겠습니다.\n",
    "1. ID : 집을 구분하는 번호\n",
    "2. date : 집을 구매한 날짜\n",
    "3. price : 타겟 변수인 집의 가격\n",
    "4. bedrooms : 침실의 수\n",
    "5. bathrooms : 침실당 화장실 개수\n",
    "6. sqft_living : 주거 공간의 평방 피트\n",
    "7. sqft_lot : 부지의 평방 피트\n",
    "8. floors : 집의 층 수\n",
    "9. waterfront : 집의 전방에 강이 흐르는지 유무 (a.k.a. 리버뷰)\n",
    "10. view : 집이 얼마나 좋아 보이는지의 정도\n",
    "11. condition : 집의 전반적인 상태\n",
    "12. grade : King County grading 시스템 기준으로 매긴 집의 등급\n",
    "13. sqft_above : 지하실을 제외한 평방 피트\n",
    "14. sqft_basement : 지하실의 평방 피트\n",
    "15. yr_built : 집을 지은 년도\n",
    "16. yr_renovated : 집을 재건축한 년도\n",
    "17. zipcode : 우편번호\n",
    "18. lat : 위도\n",
    "19. long : 경도\n",
    "20. sqft_living15 : 2015년 기준 주거 공간의 평방 피트(집을 재건축했다면, 변화가 있을 수 있음)\n",
    "21. sqft_lot15 : 2015년 기준 부지의 평방 피트(집을 재건축했다면, 변화가 있을 수 있음)"
   ]
  },
  {
   "cell_type": "code",
   "execution_count": null,
   "id": "fcf211ee",
   "metadata": {},
   "outputs": [],
   "source": [
    "#데이터 크기 확인\n",
    "train = pd.read_csv(train_data_path)\n",
    "test = pd.read_csv(sub_data_path)\n",
    "print('train data dim : {}'.format(train.shape))\n",
    "print('test data dim : {}'.format(test.shape))"
   ]
  },
  {
   "cell_type": "code",
   "execution_count": null,
   "id": "7c495fc8",
   "metadata": {},
   "outputs": [],
   "source": [
    "#타겟 변수 제거\n",
    "y = train['price']\n",
    "del train['price']\n",
    "\n",
    "print(train.columns)"
   ]
  },
  {
   "cell_type": "markdown",
   "id": "04e15bfd",
   "metadata": {},
   "source": [
    "## 2. 간단한 전처리 \n",
    "각 변수들에 대해 결측 유무를 확인하고, 분포를 확인해보면서 간단하게 전처리를 하겠습니다."
   ]
  },
  {
   "cell_type": "code",
   "execution_count": null,
   "id": "8a0034de",
   "metadata": {},
   "outputs": [],
   "source": [
    "#date 형 변환 -> str에서 int\n",
    "train['date'] = train['date'].apply(lambda i: i[:6]).astype(int)\n",
    "test['date'] = test['date'].apply(lambda i: i[:6]).astype(int)\n",
    "\n",
    "train.head()"
   ]
  },
  {
   "cell_type": "code",
   "execution_count": null,
   "id": "326c83e0",
   "metadata": {},
   "outputs": [],
   "source": [
    "#id 변수는 집값 예측에 도움이 되지 않아 삭제\n",
    "del train['id']\n",
    "del test['id']"
   ]
  },
  {
   "cell_type": "code",
   "execution_count": null,
   "id": "91cd4e5d",
   "metadata": {},
   "outputs": [],
   "source": [
    "print(train.columns)"
   ]
  },
  {
   "cell_type": "code",
   "execution_count": null,
   "id": "98334710",
   "metadata": {},
   "outputs": [],
   "source": [
    "#변수의 데이터 확인\n",
    "fig, ax = plt.subplots(9, 2, figsize=(12, 50))   # 가로스크롤 때문에 그래프 확인이 불편하다면 figsize의 x값을 조절해 보세요. \n",
    "\n",
    "count = 0\n",
    "columns = train.columns\n",
    "for row in range(9):\n",
    "    for col in range(2):\n",
    "        sns.kdeplot(data=train[columns[count]], ax=ax[row][col])\n",
    "        ax[row][col].set_title(columns[count], fontsize=15)\n",
    "        count += 1\n",
    "        if count == 19 :\n",
    "            break"
   ]
  },
  {
   "cell_type": "code",
   "execution_count": null,
   "id": "db5763db",
   "metadata": {},
   "outputs": [],
   "source": [
    "#정규화가 필요한 변수에 대한 로그 변환\n",
    "skew_columns = ['bedrooms', 'sqft_living', 'sqft_lot', 'sqft_above', 'sqft_basement', 'sqft_lot15', 'sqft_living15']\n",
    "\n",
    "for c in skew_columns:\n",
    "    train[c] = np.log1p(train[c].values)\n",
    "    test[c] = np.log1p(test[c].values)\n",
    "    "
   ]
  },
  {
   "cell_type": "code",
   "execution_count": null,
   "id": "f74be48b",
   "metadata": {},
   "outputs": [],
   "source": [
    "#라벨값의 분포 확인\n",
    "sns.kdeplot(y)\n",
    "plt.show()"
   ]
  },
  {
   "cell_type": "code",
   "execution_count": null,
   "id": "be6e8460",
   "metadata": {},
   "outputs": [],
   "source": [
    "#라벨값 정규화\n",
    "y = np.log1p(y)\n",
    "y"
   ]
  },
  {
   "cell_type": "code",
   "execution_count": null,
   "id": "9f660750",
   "metadata": {},
   "outputs": [],
   "source": [
    "#정규화 결과 확인\n",
    "sns.kdeplot(y)\n",
    "plt.show()"
   ]
  },
  {
   "cell_type": "code",
   "execution_count": null,
   "id": "5e46a09d",
   "metadata": {},
   "outputs": [],
   "source": [
    "#int float으로만 구성되었는지 확인\n",
    "train.info()"
   ]
  },
  {
   "cell_type": "markdown",
   "id": "2d33a747",
   "metadata": {},
   "source": [
    "## 모델링에 필요한 라이브러리 불러오기"
   ]
  },
  {
   "cell_type": "code",
   "execution_count": null,
   "id": "3044936f",
   "metadata": {},
   "outputs": [],
   "source": [
    "from sklearn.model_selection import train_test_split\n",
    "from sklearn.metrics import mean_squared_error\n",
    "\n",
    "from xgboost import XGBRegressor\n",
    "from lightgbm import LGBMRegressor\n",
    "from sklearn.ensemble import GradientBoostingRegressor, RandomForestRegressor\n",
    "\n",
    "from sklearn.model_selection import GridSearchCV"
   ]
  },
  {
   "cell_type": "markdown",
   "id": "fc45d858",
   "metadata": {},
   "source": [
    "## 예측을 위한 모델링"
   ]
  },
  {
   "cell_type": "code",
   "execution_count": null,
   "id": "39cd0c7b",
   "metadata": {},
   "outputs": [],
   "source": [
    "#RMSE 계산 함수\n",
    "def rmse(y_test, y_pred):\n",
    "    return np.sqrt(mean_squared_error(np.expm1(y_test), np.expm1(y_pred)))"
   ]
  },
  {
   "cell_type": "code",
   "execution_count": null,
   "id": "61e8db53",
   "metadata": {},
   "outputs": [],
   "source": [
    "random_state=919  # 고정값은 임의로 설정\n",
    "\n",
    "#각 모델 변수 설정 후 models에 지정\n",
    "gboost = GradientBoostingRegressor(random_state=random_state)\n",
    "xgboost = XGBRegressor(random_state=random_state)\n",
    "lightgbm = LGBMRegressor(random_state=random_state)\n",
    "rdforest = RandomForestRegressor(random_state=random_state)\n",
    "\n",
    "models = [gboost, xgboost, lightgbm, rdforest]"
   ]
  },
  {
   "cell_type": "code",
   "execution_count": null,
   "id": "839b4dea",
   "metadata": {},
   "outputs": [],
   "source": [
    "#모델 성능 계산 함수\n",
    "def get_scores(models, train, y):\n",
    "    df = {}\n",
    "    X_train, X_test, y_train, y_test = train_test_split(train, y, random_state=random_state, test_size=0.2)\n",
    "    for model in models:\n",
    "        model_name = model.__class__.__name__\n",
    "        model.fit(X_train, y_train)\n",
    "        y_pred = model.predict(X_test)\n",
    "        df[model_name] = rmse(y_test, y_pred)\n",
    "    return pd.DataFrame(df, index=['RMSE']).T.sort_values('RMSE', ascending=False)\n",
    "    \n",
    "get_scores(models, train, y)"
   ]
  },
  {
   "cell_type": "code",
   "execution_count": null,
   "id": "1281bb95",
   "metadata": {},
   "outputs": [],
   "source": [
    "#데이터 크기 확인\n",
    "print(train.shape, y.shape)\n",
    "temp_train = pd.concat([train, y], axis=1)\n",
    "print(temp_train.shape)\n",
    "temp_train.head()"
   ]
  },
  {
   "cell_type": "code",
   "execution_count": null,
   "id": "7dceb735",
   "metadata": {},
   "outputs": [],
   "source": [
    "def my_GridSearch(model, train, y, param_grid, verbose=2, n_jobs=5):\n",
    "    # GridSearchCV 모델로 초기화\n",
    "    grid_model = GridSearchCV(model, param_grid=param_grid, scoring='neg_mean_squared_error', \\\n",
    "                              cv=2, verbose=verbose, n_jobs=n_jobs)\n",
    "    \n",
    "    # 모델 fitting\n",
    "    grid_model.fit(train, y)\n",
    "\n",
    "    # 결과값 저장\n",
    "    params = grid_model.cv_results_['params']\n",
    "    score = grid_model.cv_results_['mean_test_score']\n",
    "    \n",
    "    # 데이터 프레임 생성\n",
    "    results = pd.DataFrame(params)\n",
    "    results['score'] = score\n",
    "    \n",
    "    # RMSLE 값 계산 후 정렬\n",
    "    results['RMSLE'] = np.sqrt(-1 * results['score'])\n",
    "    results = results.sort_values('RMSLE')\n",
    "    \n",
    "    return results"
   ]
  },
  {
   "cell_type": "markdown",
   "id": "0bb6a328",
   "metadata": {},
   "source": [
    "경고문에서 패키지 오류가 났는데 pip install -U setuptools 명령어를 통해 해결"
   ]
  },
  {
   "cell_type": "code",
   "execution_count": null,
   "id": "bf7a434a",
   "metadata": {
    "scrolled": true
   },
   "outputs": [],
   "source": [
    "#파라미터 지정\n",
    "param_grid = {\n",
    "    'learning_rate': [0.05, 0.01],  \n",
    "    'n_estimators': [100, 200],\n",
    "    'max_depth': [5, 10],\n",
    "}\n",
    "model = XGBRegressor(random_state=random_state)\n",
    "tuning_result = my_GridSearch(model, train, y, param_grid, verbose=2, n_jobs=-1)"
   ]
  },
  {
   "cell_type": "markdown",
   "id": "1ce71465",
   "metadata": {},
   "source": [
    "- param_gird 실행 중 발생하는 패키지 오류 경고문을 'pip install -U setuptools' 명령어 실행으로 해결"
   ]
  },
  {
   "cell_type": "code",
   "execution_count": null,
   "id": "01dd512f",
   "metadata": {},
   "outputs": [],
   "source": [
    "model = XGBRegressor(max_depth=10, n_estimators=100, random_state=random_state)"
   ]
  },
  {
   "cell_type": "code",
   "execution_count": null,
   "id": "eaf1daeb",
   "metadata": {},
   "outputs": [],
   "source": [
    "#예측결과 out put 함수\n",
    "def save_submission(model, train, y, test, model_name, rmsle=None):\n",
    "    model.fit(train, y)\n",
    "    prediction = model.predict(test)\n",
    "    prediction = np.expm1(prediction)\n",
    "    data_dir = os.getenv('HOME')+'/aiffel/kaggle_kakr_housing/data'\n",
    "    submission_path = join(data_dir, 'sample_submission.csv')\n",
    "    submission = pd.read_csv(submission_path)\n",
    "    submission['price'] = prediction\n",
    "    submission_csv_path = '{}/submission_{}_RMSLE_{}.csv'.format(data_dir, model_name, rmsle)\n",
    "    submission.to_csv(submission_csv_path, index=False)\n",
    "    print('{} saved!'.format(submission_csv_path))"
   ]
  },
  {
   "cell_type": "code",
   "execution_count": null,
   "id": "4c13402e",
   "metadata": {
    "scrolled": true
   },
   "outputs": [],
   "source": [
    "#결과 csv로 변환\n",
    "save_submission(model, train, y, test, 'lgbm', rmsle='0.164399')"
   ]
  },
  {
   "cell_type": "markdown",
   "id": "6b237c4e",
   "metadata": {},
   "source": [
    "## 회고 - 김새봄\n",
    "### 어려웠던 점 / 느낀점\n",
    "> - 높은 예측값을 찾기 위한 최적의 파라미터를 찾는 과정이 어려웠음\n",
    "> - \n",
    "\n",
    "### 학습한 내용\n",
    "> - 예측값을 높이기 위한 파라미터 찾는 방법\n",
    "> - 결과를 csv로 변환해서 캐글에 업로드하는 방법"
   ]
  }
 ],
 "metadata": {
  "kernelspec": {
   "display_name": "Python 3 (ipykernel)",
   "language": "python",
   "name": "python3"
  },
  "language_info": {
   "codemirror_mode": {
    "name": "ipython",
    "version": 3
   },
   "file_extension": ".py",
   "mimetype": "text/x-python",
   "name": "python",
   "nbconvert_exporter": "python",
   "pygments_lexer": "ipython3",
   "version": "3.10.9"
  }
 },
 "nbformat": 4,
 "nbformat_minor": 5
}
